{
 "cells": [
  {
   "cell_type": "code",
   "execution_count": 6,
   "id": "be7f43ba-7ba1-4f57-8f8f-312e97df41dc",
   "metadata": {},
   "outputs": [],
   "source": [
    "import os\n",
    "import openai\n",
    "import tiktoken\n",
    "from dotenv import load_dotenv\n",
    "import llama_index\n",
    "from llama_index import GPTKeywordTableIndex,SimpleDirectoryReader,LLMPredictor,ServiceContext\n",
    "from llama_index import GPTVectorStoreIndex,load_index_from_storage\n",
    "\n",
    "load_dotenv() #read local .env file\n",
    "openai.api_key = os.getenv('OPENAI_API_KEY')"
   ]
  },
  {
   "cell_type": "code",
   "execution_count": 7,
   "id": "c639f4db-4fe7-4b28-b1de-8fe39bd7099b",
   "metadata": {},
   "outputs": [],
   "source": [
    "documents = SimpleDirectoryReader('issuesubsetdata').load_data()"
   ]
  },
  {
   "cell_type": "code",
   "execution_count": 8,
   "id": "549d2ea8-9732-41e0-b335-096a4058269f",
   "metadata": {},
   "outputs": [],
   "source": [
    "index = GPTVectorStoreIndex.from_documents(documents)"
   ]
  },
  {
   "cell_type": "code",
   "execution_count": 9,
   "id": "48f035f3-b4da-445c-b917-8eae2b002a35",
   "metadata": {},
   "outputs": [],
   "source": [
    "query_engine = index.as_query_engine()"
   ]
  },
  {
   "cell_type": "code",
   "execution_count": 12,
   "id": "ac3f95df-31c6-4c4d-b267-6d4b3a996dbe",
   "metadata": {},
   "outputs": [
    {
     "name": "stdout",
     "output_type": "stream",
     "text": [
      "\n",
      "- \"@context\"\n",
      "- \"issue\"\n",
      "- \"description\"\n",
      "- \"has_author\"\n",
      "- \"due_by\"\n",
      "- \"status\"\n",
      "- \"impacted_region\"\n",
      "- \"required\"\n"
     ]
    }
   ],
   "source": [
    "response = query_engine.query(\"list all json schema fields\")\n",
    "print(response)"
   ]
  },
  {
   "cell_type": "code",
   "execution_count": 13,
   "id": "73078ba5-c8f5-49c2-b5bc-b4b59b6ace89",
   "metadata": {},
   "outputs": [
    {
     "name": "stdout",
     "output_type": "stream",
     "text": [
      "\n",
      "TestSchema.ENUMVALS\n",
      "- DESCRIPTION (VARCHAR)\n",
      "- ENUMVALID (DECIMAL)\n",
      "- NAME (VARCHAR)\n",
      "\n",
      "TestSchema.ISSUE\n",
      "- DESCRIPTION (VARCHAR)\n",
      "- IMPCTDORG (VARCHAR)\n",
      "- ISSDESCR (VARCHAR)\n",
      "- ISSORGNINDT (TIMESTAMP)\n",
      "- ISSRORG (VARCHAR)\n",
      "- NAME00 (VARCHAR)\n",
      "- ORGANIZATIONREGION (VARCHAR)\n",
      "- SLADUEDATE (TIMESTAMP)\n",
      "- STTS (DECFLOAT)\n",
      "- CREATION_DATE (TIMESTAMP)\n",
      "- CREATOR (DECFLOAT)\n"
     ]
    }
   ],
   "source": [
    "response = query_engine.query(\"list all db schema table columns\")\n",
    "print(response)"
   ]
  },
  {
   "cell_type": "code",
   "execution_count": 25,
   "id": "af6e7b28-b98e-4e63-8edf-8511e5bef493",
   "metadata": {},
   "outputs": [
    {
     "name": "stdout",
     "output_type": "stream",
     "text": [
      "\n",
      "The mapping of fields from the JSON schema to the DB table columns in the schema file would be as follows:\n",
      "\n",
      "TestSchema.ENUMVALS:\n",
      "DESCRIPTION -> msrpc:Issue\n",
      "ENUMVALID -> msrpc:originallyDueBy\n",
      "NAME -> msrpc:IssueStatus\n",
      "\n",
      "TestSchema.ISSUE:\n",
      "DESCRIPTION -> mscore:description\n",
      "IMPCTDORG -> mscore:hasAuthor\n",
      "ISSDESCR -> mscore:categorizedBy\n",
      "ISSORGNINDT -> msrpc:impacts\n",
      "NAME00 -> mscore:description\n",
      "ORGANIZATIONREGION -> msrpc:originallyDueBy\n",
      "SLADUEDATE -> mscore:categorizedBy\n",
      "STTS -> msrpcx:_IssueStatus_Open\n",
      "CREATION_DATE -> msrpcx:_IssueStatus_Closed\n",
      "CREATOR -> msrpcx:_IssueStatus_PendingVerification\n",
      "\n",
      "The SQL view would be as follows:\n",
      "\n",
      "CREATE VIEW TestSchema.IssueView AS\n",
      "SELECT \n",
      "    ENUMVALS.DESCRIPTION AS Issue,\n",
      "    ENUMVALS.ENUMVALID AS OriginallyDueBy,\n",
      "    ENUMVALS.NAME AS IssueStatus,\n",
      "    ISSUE.DESCRIPTION AS Description,\n",
      "    ISSUE.IMPCTDORG AS HasAuthor,\n",
      "    ISSUE.ISSDESCR AS CategorizedBy,\n",
      "    ISSUE.ISSORGNINDT AS Impacts,\n",
      "    ISSUE.NAME00 AS Description,\n",
      "    ISSUE.ORGANIZATIONREGION AS OriginallyDueBy,\n",
      "    ISSUE.SLADUEDATE AS CategorizedBy,\n",
      "    ISSUE.STTS AS IssueStatusOpen,\n",
      "    ISSUE.CREATION_DATE AS IssueStatusClosed,\n",
      "    ISSUE.CREATOR AS IssueStatusPendingVerification\n",
      "FROM TestSchema.ENUMVALS\n",
      "INNER JOIN TestSchema.ISSUE\n",
      "    ON ENUMVALS.ENUMVALID = ISSUE.STTS;\n"
     ]
    }
   ],
   "source": [
    "query = '''\n",
    "System: you are an expert of rdbms and rdf triples and json\n",
    "\n",
    "map fields from json schema to db table columns in schema file\n",
    "for the below steps to generate the output\n",
    "\n",
    "Step 1:\n",
    "add the mapped db column in the json file in the format TABLE.Column\n",
    "\n",
    "Step 2: \n",
    "generate a SQL db view using the db columns mapped in step 1\n",
    "'''\n",
    "response = query_engine.query(f\"{query}\")\n",
    "print(response)"
   ]
  },
  {
   "cell_type": "code",
   "execution_count": null,
   "id": "a2499e96-b662-4846-a4b2-f9853a4e73a0",
   "metadata": {},
   "outputs": [],
   "source": []
  },
  {
   "cell_type": "code",
   "execution_count": null,
   "id": "732ce2b5-e1bf-4cce-bb8b-403fdf96cf1d",
   "metadata": {},
   "outputs": [],
   "source": []
  },
  {
   "cell_type": "code",
   "execution_count": null,
   "id": "9b81d305-2b97-423e-9691-3cc20e0ebd48",
   "metadata": {},
   "outputs": [],
   "source": []
  },
  {
   "cell_type": "code",
   "execution_count": null,
   "id": "23130672-eda2-447c-9bc0-d3238b19abef",
   "metadata": {},
   "outputs": [],
   "source": []
  },
  {
   "cell_type": "code",
   "execution_count": null,
   "id": "3ef3a08d-c7d8-4e43-adfc-7ebe48ead7b2",
   "metadata": {},
   "outputs": [],
   "source": []
  }
 ],
 "metadata": {
  "kernelspec": {
   "display_name": "Python 3 (ipykernel)",
   "language": "python",
   "name": "python3"
  },
  "language_info": {
   "codemirror_mode": {
    "name": "ipython",
    "version": 3
   },
   "file_extension": ".py",
   "mimetype": "text/x-python",
   "name": "python",
   "nbconvert_exporter": "python",
   "pygments_lexer": "ipython3",
   "version": "3.9.13"
  }
 },
 "nbformat": 4,
 "nbformat_minor": 5
}
