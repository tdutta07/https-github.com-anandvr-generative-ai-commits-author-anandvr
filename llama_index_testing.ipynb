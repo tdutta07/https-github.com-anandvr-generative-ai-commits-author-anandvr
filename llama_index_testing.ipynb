{
 "cells": [
  {
   "cell_type": "code",
   "execution_count": 6,
   "id": "be7f43ba-7ba1-4f57-8f8f-312e97df41dc",
   "metadata": {},
   "outputs": [],
   "source": [
    "import os\n",
    "import openai\n",
    "import tiktoken\n",
    "from dotenv import load_dotenv\n",
    "import llama_index\n",
    "from llama_index import GPTKeywordTableIndex,SimpleDirectoryReader,LLMPredictor,ServiceContext\n",
    "from llama_index import GPTVectorStoreIndex,load_index_from_storage\n",
    "\n",
    "load_dotenv() #read local .env file\n",
    "openai.api_key = os.getenv('OPENAI_API_KEY')"
   ]
  },
  {
   "cell_type": "code",
   "execution_count": 7,
   "id": "c639f4db-4fe7-4b28-b1de-8fe39bd7099b",
   "metadata": {},
   "outputs": [],
   "source": [
    "documents = SimpleDirectoryReader('issuesubsetdata').load_data()"
   ]
  },
  {
   "cell_type": "code",
   "execution_count": 8,
   "id": "549d2ea8-9732-41e0-b335-096a4058269f",
   "metadata": {},
   "outputs": [],
   "source": [
    "index = GPTVectorStoreIndex.from_documents(documents)"
   ]
  },
  {
   "cell_type": "code",
   "execution_count": 9,
   "id": "48f035f3-b4da-445c-b917-8eae2b002a35",
   "metadata": {},
   "outputs": [],
   "source": [
    "query_engine = index.as_query_engine()"
   ]
  },
  {
   "cell_type": "code",
   "execution_count": 12,
   "id": "ac3f95df-31c6-4c4d-b267-6d4b3a996dbe",
   "metadata": {},
   "outputs": [
    {
     "name": "stdout",
     "output_type": "stream",
     "text": [
      "\n",
      "- \"@context\"\n",
      "- \"issue\"\n",
      "- \"description\"\n",
      "- \"has_author\"\n",
      "- \"due_by\"\n",
      "- \"status\"\n",
      "- \"impacted_region\"\n",
      "- \"required\"\n"
     ]
    }
   ],
   "source": [
    "response = query_engine.query(\"list all json schema fields\")\n",
    "print(response)"
   ]
  },
  {
   "cell_type": "code",
   "execution_count": 13,
   "id": "73078ba5-c8f5-49c2-b5bc-b4b59b6ace89",
   "metadata": {},
   "outputs": [
    {
     "name": "stdout",
     "output_type": "stream",
     "text": [
      "\n",
      "TestSchema.ENUMVALS\n",
      "- DESCRIPTION (VARCHAR)\n",
      "- ENUMVALID (DECIMAL)\n",
      "- NAME (VARCHAR)\n",
      "\n",
      "TestSchema.ISSUE\n",
      "- DESCRIPTION (VARCHAR)\n",
      "- IMPCTDORG (VARCHAR)\n",
      "- ISSDESCR (VARCHAR)\n",
      "- ISSORGNINDT (TIMESTAMP)\n",
      "- ISSRORG (VARCHAR)\n",
      "- NAME00 (VARCHAR)\n",
      "- ORGANIZATIONREGION (VARCHAR)\n",
      "- SLADUEDATE (TIMESTAMP)\n",
      "- STTS (DECFLOAT)\n",
      "- CREATION_DATE (TIMESTAMP)\n",
      "- CREATOR (DECFLOAT)\n"
     ]
    }
   ],
   "source": [
    "response = query_engine.query(\"list all db schema table columns\")\n",
    "print(response)"
   ]
  },
  {
   "cell_type": "code",
   "execution_count": 27,
   "id": "af6e7b28-b98e-4e63-8edf-8511e5bef493",
   "metadata": {},
   "outputs": [
    {
     "name": "stdout",
     "output_type": "stream",
     "text": [
      "\n",
      "Answer:\n",
      "Step 1:\n",
      "\n",
      "{\n",
      "    \"@context\": {\n",
      "      \"rdf\": \"http://www.w3.org/1999/02/22-rdf-syntax-ns#\",\n",
      "      \"rdfs\": \"http://www.w3.org/2000/01/rdf-schema#\",\n",
      "      \"owl\": \"http://www.w3.org/2002/07/owl#\",\n",
      "      \"skos\": \"http://www.w3.org/2004/02/skos/core#\",\n",
      "      \"xsd\": \"http://www.w3.org/2001/XMLSchema#\",\n",
      "      \"msrpc\": \"http://example.org/msrpc/ontology/\",\n",
      "      \"msrpc3\": \"http://example.org/msrpc3/ontology/\",\n",
      "      \"msrpcx\": \"http://example.org/msrpcx/ontology/\"\n",
      "    },\n",
      "    \"issue\": {\n",
      "        \"@id\": \"msrpc:Issue\",\n",
      "        \"@type\": \"xsd:string\",\n",
      "        \"SQLField:TestSchema.ISSUE.NAME00\": \"xsd:string\",\n",
      "        \"rdfs:comment\": \"A potential risk or deficiency for which remidial action or monitoring is planned or anticipated to reduce a residual risk to an acceptable level\"\n",
      "      },   \n",
      "    \"description\":{\n",
      "      \"@id\": \"mscore:description\",\n",
      "      \"@type\": \"xsd:string\",\n",
      "      \"SQLField:TestSchema.ISSUE.DESCRIPTION\": \"xsd:string\",\n",
      "      \"rdfs:comment\": \"The description of the subject Issue\"\n",
      "    },\n",
      "    \"has_author\":{\n",
      "        \"@id\": \"mscore:hasAuthor\",\n",
      "        \"@type\": \"mscore:Personnel\",\n",
      "        \"SQLField:TestSchema.ISSUE.CREATOR\": \"DECFLOAT\",\n",
      "        \"rdfs:comment\": \"The subject Issue is written by the Personnel who is a direct-hire or individual contractor/contingent worker.\"\n",
      "    },\n",
      "    \"due_by\":{\n",
      "        \"@id\": \"msrpc:originallyDueBy\",\n",
      "        \"@type\": \"xsd:dateTime\",\n",
      "        \"SQLField:TestSchema.ISSUE.SLADUEDATE\": \"TIMESTAMP\",\n",
      "        \"rdfs:comment\": \"The subject is or was originally expected or planned for at a certain time or date\"\n",
      "    },\n",
      "    \"status\":{\n",
      "        \"@id\": \"mscore:categorizedBy\",\n",
      "        \"@type\": \"msrpc:IssueStatus\",\n",
      "        \"@enum\": [\"msrpcx:_IssueStatus_Open\", \"msrpcx:_IssueStatus_Closed\", \"msrpcx:_IssueStatus_PendingVerification\", \"msrpcx:_IssueStatus_Draft\"],\n",
      "        \"SQLField:TestSchema.ISSUE.STTS\": \"DECFLOAT\",\n",
      "        \"rdfs:comment\": \"This is a status category to capture what state an Issue is in at any given time.\"        \n",
      "    },\t\n",
      "    \"impacted_region\":{\n",
      "        \"@id\": \"msrpc:impacts\",\n",
      "        \"@type\": [\"mscore:GeoRegion\", \"mscore:CountryGeoRegion\"],\n",
      "        \"SQLField:TestSchema.ISSUE.ORGANIZATIONREGION\": \"VARCHAR\",\n",
      "        \"rdfs:comment\": \"The Subject has some kind of impact at a physical geographic location (Object)\"        \n",
      "    },\t\n",
      "     \"required\": [\"issue\",  \"description\", \"due_by\", \"status\", \"impacted_region\", \"has_author\"]\n",
      "\n",
      "  }\n",
      "\n",
      "Step 2:\n",
      "\n",
      "CREATE VIEW TestSchema.ISSUE_VIEW AS\n",
      "SELECT \n",
      "    ISSUE.NAME00,\n",
      "    ISSUE.DESCRIPTION,\n",
      "    ISSUE.IMPCTDORG,\n",
      "    ISSUE.ISSDESCR,\n",
      "    ISSUE.ISSORGNINDT,\n",
      "    ISSUE.ISSRORG,\n",
      "    ISSUE.ORGANIZATIONREGION,\n",
      "    ISSUE.SLADUEDATE,\n",
      "    ISSUE.STTS,\n",
      "    ISSUE.CREATION_DATE,\n",
      "    ISSUE.CREATOR,\n",
      "    ENUMVALS.DESCRIPTION,\n",
      "    ENUMVALS.ENUMVALID,\n",
      "    ENUMVALS.NAME\n",
      "FROM TestSchema.ISSUE\n",
      "LEFT JOIN TestSchema.ENUMVALS\n",
      "    ON ISSUE.STTS = ENUMVALS.ENUMVALID;\n"
     ]
    }
   ],
   "source": [
    "query = '''\n",
    "System: you are an expert of rdbms and json format\n",
    "\n",
    "using @id and @type properties in the json file map the parent node to db table columns given in schema file\n",
    "for the below steps to generate the output\n",
    "\n",
    "Step 1:\n",
    "add the mapped db column in the json file under the parent node of @id in the format ```SQLField:TABLE.Column```\n",
    "\n",
    "Step 2: \n",
    "generate a SQL db view using the db columns mapped in step 1\n",
    "'''\n",
    "response = query_engine.query(f\"{query}\")\n",
    "print(response)"
   ]
  },
  {
   "cell_type": "code",
   "execution_count": null,
   "id": "a2499e96-b662-4846-a4b2-f9853a4e73a0",
   "metadata": {},
   "outputs": [],
   "source": []
  },
  {
   "cell_type": "code",
   "execution_count": null,
   "id": "732ce2b5-e1bf-4cce-bb8b-403fdf96cf1d",
   "metadata": {},
   "outputs": [],
   "source": []
  },
  {
   "cell_type": "code",
   "execution_count": null,
   "id": "9b81d305-2b97-423e-9691-3cc20e0ebd48",
   "metadata": {},
   "outputs": [],
   "source": []
  },
  {
   "cell_type": "code",
   "execution_count": null,
   "id": "23130672-eda2-447c-9bc0-d3238b19abef",
   "metadata": {},
   "outputs": [],
   "source": []
  },
  {
   "cell_type": "code",
   "execution_count": null,
   "id": "3ef3a08d-c7d8-4e43-adfc-7ebe48ead7b2",
   "metadata": {},
   "outputs": [],
   "source": []
  }
 ],
 "metadata": {
  "kernelspec": {
   "display_name": "Python 3 (ipykernel)",
   "language": "python",
   "name": "python3"
  },
  "language_info": {
   "codemirror_mode": {
    "name": "ipython",
    "version": 3
   },
   "file_extension": ".py",
   "mimetype": "text/x-python",
   "name": "python",
   "nbconvert_exporter": "python",
   "pygments_lexer": "ipython3",
   "version": "3.9.13"
  }
 },
 "nbformat": 4,
 "nbformat_minor": 5
}
