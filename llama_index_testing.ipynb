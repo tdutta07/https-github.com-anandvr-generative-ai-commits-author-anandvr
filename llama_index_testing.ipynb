{
 "cells": [
  {
   "cell_type": "code",
   "execution_count": 4,
   "id": "dab20fa1-d1bf-47ed-97c0-d695ddf58ae6",
   "metadata": {},
   "outputs": [
    {
     "name": "stdout",
     "output_type": "stream",
     "text": [
      "Defaulting to user installation because normal site-packages is not writeable\n",
      "Collecting llama_index\n",
      "  Downloading llama_index-0.7.11.post1-py3-none-any.whl (609 kB)\n",
      "     -------------------------------------- 609.4/609.4 kB 1.7 MB/s eta 0:00:00\n",
      "Requirement already satisfied: beautifulsoup4 in c:\\programdata\\anaconda3\\lib\\site-packages (from llama_index) (4.11.1)\n",
      "Collecting sqlalchemy>=2.0.15\n",
      "  Downloading SQLAlchemy-2.0.19-cp39-cp39-win_amd64.whl (2.0 MB)\n",
      "     ---------------------------------------- 2.0/2.0 MB 3.5 MB/s eta 0:00:00\n",
      "Collecting langchain>=0.0.218\n",
      "  Downloading langchain-0.0.238-py3-none-any.whl (1.3 MB)\n",
      "     ---------------------------------------- 1.3/1.3 MB 5.0 MB/s eta 0:00:00\n",
      "Requirement already satisfied: openai>=0.26.4 in c:\\users\\bmayu\\appdata\\roaming\\python\\python39\\site-packages (from llama_index) (0.27.8)\n",
      "Collecting typing-inspect>=0.8.0\n",
      "  Downloading typing_inspect-0.9.0-py3-none-any.whl (8.8 kB)\n",
      "Requirement already satisfied: nest-asyncio in c:\\programdata\\anaconda3\\lib\\site-packages (from llama_index) (1.5.5)\n",
      "Collecting tenacity<9.0.0,>=8.2.0\n",
      "  Downloading tenacity-8.2.2-py3-none-any.whl (24 kB)\n",
      "Collecting dataclasses-json\n",
      "  Downloading dataclasses_json-0.5.13-py3-none-any.whl (26 kB)\n",
      "Requirement already satisfied: numpy in c:\\programdata\\anaconda3\\lib\\site-packages (from llama_index) (1.21.5)\n",
      "Requirement already satisfied: urllib3<2 in c:\\programdata\\anaconda3\\lib\\site-packages (from llama_index) (1.26.11)\n",
      "Requirement already satisfied: pandas in c:\\programdata\\anaconda3\\lib\\site-packages (from llama_index) (1.4.4)\n",
      "Requirement already satisfied: tiktoken in c:\\users\\bmayu\\appdata\\roaming\\python\\python39\\site-packages (from llama_index) (0.4.0)\n",
      "Collecting typing-extensions>=4.5.0\n",
      "  Downloading typing_extensions-4.7.1-py3-none-any.whl (33 kB)\n",
      "Collecting fsspec>=2023.5.0\n",
      "  Downloading fsspec-2023.6.0-py3-none-any.whl (163 kB)\n",
      "     -------------------------------------- 163.8/163.8 kB 5.0 MB/s eta 0:00:00\n",
      "Requirement already satisfied: aiohttp<4.0.0,>=3.8.3 in c:\\users\\bmayu\\appdata\\roaming\\python\\python39\\site-packages (from langchain>=0.0.218->llama_index) (3.8.4)\n",
      "Requirement already satisfied: async-timeout<5.0.0,>=4.0.0 in c:\\users\\bmayu\\appdata\\roaming\\python\\python39\\site-packages (from langchain>=0.0.218->llama_index) (4.0.2)\n",
      "Collecting openapi-schema-pydantic<2.0,>=1.2\n",
      "  Downloading openapi_schema_pydantic-1.2.4-py3-none-any.whl (90 kB)\n",
      "     ---------------------------------------- 90.0/90.0 kB 5.3 MB/s eta 0:00:00\n",
      "Collecting pydantic<2,>=1\n",
      "  Downloading pydantic-1.10.11-cp39-cp39-win_amd64.whl (2.2 MB)\n",
      "     ---------------------------------------- 2.2/2.2 MB 3.4 MB/s eta 0:00:00\n",
      "Collecting numexpr<3.0.0,>=2.8.4\n",
      "  Downloading numexpr-2.8.4-cp39-cp39-win_amd64.whl (92 kB)\n",
      "     ---------------------------------------- 92.7/92.7 kB 5.2 MB/s eta 0:00:00\n",
      "Requirement already satisfied: requests<3,>=2 in c:\\programdata\\anaconda3\\lib\\site-packages (from langchain>=0.0.218->llama_index) (2.28.1)\n",
      "Collecting langsmith<0.1.0,>=0.0.11\n",
      "  Downloading langsmith-0.0.12-py3-none-any.whl (29 kB)\n",
      "Requirement already satisfied: PyYAML>=5.4.1 in c:\\programdata\\anaconda3\\lib\\site-packages (from langchain>=0.0.218->llama_index) (6.0)\n",
      "Collecting marshmallow<4.0.0,>=3.18.0\n",
      "  Downloading marshmallow-3.20.1-py3-none-any.whl (49 kB)\n",
      "     ---------------------------------------- 49.4/49.4 kB ? eta 0:00:00\n",
      "Requirement already satisfied: tqdm in c:\\programdata\\anaconda3\\lib\\site-packages (from openai>=0.26.4->llama_index) (4.64.1)\n",
      "Requirement already satisfied: greenlet!=0.4.17 in c:\\programdata\\anaconda3\\lib\\site-packages (from sqlalchemy>=2.0.15->llama_index) (1.1.1)\n",
      "Requirement already satisfied: mypy-extensions>=0.3.0 in c:\\programdata\\anaconda3\\lib\\site-packages (from typing-inspect>=0.8.0->llama_index) (0.4.3)\n",
      "Requirement already satisfied: soupsieve>1.2 in c:\\programdata\\anaconda3\\lib\\site-packages (from beautifulsoup4->llama_index) (2.3.1)\n",
      "Requirement already satisfied: python-dateutil>=2.8.1 in c:\\programdata\\anaconda3\\lib\\site-packages (from pandas->llama_index) (2.8.2)\n",
      "Requirement already satisfied: pytz>=2020.1 in c:\\programdata\\anaconda3\\lib\\site-packages (from pandas->llama_index) (2022.1)\n",
      "Requirement already satisfied: regex>=2022.1.18 in c:\\programdata\\anaconda3\\lib\\site-packages (from tiktoken->llama_index) (2022.7.9)\n",
      "Requirement already satisfied: charset-normalizer<4.0,>=2.0 in c:\\programdata\\anaconda3\\lib\\site-packages (from aiohttp<4.0.0,>=3.8.3->langchain>=0.0.218->llama_index) (2.0.4)\n",
      "Requirement already satisfied: aiosignal>=1.1.2 in c:\\users\\bmayu\\appdata\\roaming\\python\\python39\\site-packages (from aiohttp<4.0.0,>=3.8.3->langchain>=0.0.218->llama_index) (1.3.1)\n",
      "Requirement already satisfied: attrs>=17.3.0 in c:\\programdata\\anaconda3\\lib\\site-packages (from aiohttp<4.0.0,>=3.8.3->langchain>=0.0.218->llama_index) (21.4.0)\n",
      "Requirement already satisfied: yarl<2.0,>=1.0 in c:\\users\\bmayu\\appdata\\roaming\\python\\python39\\site-packages (from aiohttp<4.0.0,>=3.8.3->langchain>=0.0.218->llama_index) (1.9.2)\n",
      "Requirement already satisfied: multidict<7.0,>=4.5 in c:\\users\\bmayu\\appdata\\roaming\\python\\python39\\site-packages (from aiohttp<4.0.0,>=3.8.3->langchain>=0.0.218->llama_index) (6.0.4)\n",
      "Requirement already satisfied: frozenlist>=1.1.1 in c:\\users\\bmayu\\appdata\\roaming\\python\\python39\\site-packages (from aiohttp<4.0.0,>=3.8.3->langchain>=0.0.218->llama_index) (1.4.0)\n",
      "Requirement already satisfied: packaging>=17.0 in c:\\programdata\\anaconda3\\lib\\site-packages (from marshmallow<4.0.0,>=3.18.0->dataclasses-json->llama_index) (21.3)\n",
      "Requirement already satisfied: six>=1.5 in c:\\programdata\\anaconda3\\lib\\site-packages (from python-dateutil>=2.8.1->pandas->llama_index) (1.16.0)\n",
      "Requirement already satisfied: idna<4,>=2.5 in c:\\programdata\\anaconda3\\lib\\site-packages (from requests<3,>=2->langchain>=0.0.218->llama_index) (3.3)\n",
      "Requirement already satisfied: certifi>=2017.4.17 in c:\\programdata\\anaconda3\\lib\\site-packages (from requests<3,>=2->langchain>=0.0.218->llama_index) (2022.9.14)\n",
      "Requirement already satisfied: colorama in c:\\programdata\\anaconda3\\lib\\site-packages (from tqdm->openai>=0.26.4->llama_index) (0.4.5)\n",
      "Requirement already satisfied: pyparsing!=3.0.5,>=2.0.2 in c:\\programdata\\anaconda3\\lib\\site-packages (from packaging>=17.0->marshmallow<4.0.0,>=3.18.0->dataclasses-json->llama_index) (3.0.9)\n",
      "Installing collected packages: typing-extensions, tenacity, numexpr, fsspec, typing-inspect, sqlalchemy, pydantic, marshmallow, openapi-schema-pydantic, langsmith, dataclasses-json, langchain, llama_index\n",
      "Successfully installed dataclasses-json-0.5.13 fsspec-2023.6.0 langchain-0.0.238 langsmith-0.0.12 llama_index-0.7.11.post1 marshmallow-3.20.1 numexpr-2.8.4 openapi-schema-pydantic-1.2.4 pydantic-1.10.11 sqlalchemy-2.0.19 tenacity-8.2.2 typing-extensions-4.7.1 typing-inspect-0.9.0\n"
     ]
    },
    {
     "name": "stderr",
     "output_type": "stream",
     "text": [
      "  WARNING: The script langsmith.exe is installed in 'C:\\Users\\bmayu\\AppData\\Roaming\\Python\\Python39\\Scripts' which is not on PATH.\n",
      "  Consider adding this directory to PATH or, if you prefer to suppress this warning, use --no-warn-script-location.\n",
      "  WARNING: The script langchain-server.exe is installed in 'C:\\Users\\bmayu\\AppData\\Roaming\\Python\\Python39\\Scripts' which is not on PATH.\n",
      "  Consider adding this directory to PATH or, if you prefer to suppress this warning, use --no-warn-script-location.\n"
     ]
    }
   ],
   "source": [
    "!pip install llama_index"
   ]
  },
  {
   "cell_type": "code",
   "execution_count": 6,
   "id": "be7f43ba-7ba1-4f57-8f8f-312e97df41dc",
   "metadata": {},
   "outputs": [],
   "source": [
    "import os\n",
    "import openai\n",
    "import tiktoken\n",
    "from dotenv import load_dotenv\n",
    "import llama_index\n",
    "from llama_index import GPTKeywordTableIndex,SimpleDirectoryReader,LLMPredictor,ServiceContext\n",
    "from llama_index import GPTVectorStoreIndex,load_index_from_storage\n",
    "\n",
    "load_dotenv() #read local .env file\n",
    "openai.api_key = os.getenv('OPENAI_API_KEY')"
   ]
  },
  {
   "cell_type": "code",
   "execution_count": 7,
   "id": "c639f4db-4fe7-4b28-b1de-8fe39bd7099b",
   "metadata": {},
   "outputs": [],
   "source": [
    "documents = SimpleDirectoryReader('issuesubsetdata').load_data()"
   ]
  },
  {
   "cell_type": "code",
   "execution_count": 8,
   "id": "549d2ea8-9732-41e0-b335-096a4058269f",
   "metadata": {},
   "outputs": [],
   "source": [
    "index = GPTVectorStoreIndex.from_documents(documents)"
   ]
  },
  {
   "cell_type": "code",
   "execution_count": 9,
   "id": "48f035f3-b4da-445c-b917-8eae2b002a35",
   "metadata": {},
   "outputs": [],
   "source": [
    "query_engine = index.as_query_engine()"
   ]
  },
  {
   "cell_type": "code",
   "execution_count": 12,
   "id": "ac3f95df-31c6-4c4d-b267-6d4b3a996dbe",
   "metadata": {},
   "outputs": [
    {
     "name": "stdout",
     "output_type": "stream",
     "text": [
      "\n",
      "- \"@context\"\n",
      "- \"issue\"\n",
      "- \"description\"\n",
      "- \"has_author\"\n",
      "- \"due_by\"\n",
      "- \"status\"\n",
      "- \"impacted_region\"\n",
      "- \"required\"\n"
     ]
    }
   ],
   "source": [
    "response = query_engine.query(\"list all json schema fields\")\n",
    "print(response)"
   ]
  },
  {
   "cell_type": "code",
   "execution_count": 13,
   "id": "73078ba5-c8f5-49c2-b5bc-b4b59b6ace89",
   "metadata": {},
   "outputs": [
    {
     "name": "stdout",
     "output_type": "stream",
     "text": [
      "\n",
      "TestSchema.ENUMVALS\n",
      "- DESCRIPTION (VARCHAR)\n",
      "- ENUMVALID (DECIMAL)\n",
      "- NAME (VARCHAR)\n",
      "\n",
      "TestSchema.ISSUE\n",
      "- DESCRIPTION (VARCHAR)\n",
      "- IMPCTDORG (VARCHAR)\n",
      "- ISSDESCR (VARCHAR)\n",
      "- ISSORGNINDT (TIMESTAMP)\n",
      "- ISSRORG (VARCHAR)\n",
      "- NAME00 (VARCHAR)\n",
      "- ORGANIZATIONREGION (VARCHAR)\n",
      "- SLADUEDATE (TIMESTAMP)\n",
      "- STTS (DECFLOAT)\n",
      "- CREATION_DATE (TIMESTAMP)\n",
      "- CREATOR (DECFLOAT)\n"
     ]
    }
   ],
   "source": [
    "response = query_engine.query(\"list all db schema table columns\")\n",
    "print(response)"
   ]
  },
  {
   "cell_type": "code",
   "execution_count": 24,
   "id": "af6e7b28-b98e-4e63-8edf-8511e5bef493",
   "metadata": {},
   "outputs": [
    {
     "name": "stdout",
     "output_type": "stream",
     "text": [
      "\n",
      "The mapping of fields from the JSON schema to the DB table columns in the schema file would be as follows:\n",
      "\n",
      "TestSchema.ENUMVALS:\n",
      "DESCRIPTION -> msrpc:Issue\n",
      "ENUMVALID -> msrpc:originallyDueBy\n",
      "NAME -> msrpc:IssueStatus\n",
      "\n",
      "TestSchema.ISSUE:\n",
      "DESCRIPTION -> mscore:description\n",
      "IMPCTDORG -> mscore:hasAuthor\n",
      "ISSDESCR -> mscore:categorizedBy\n",
      "ISSORGNINDT -> msrpc:impacts\n",
      "NAME00 -> mscore:description\n",
      "ORGANIZATIONREGION -> msrpc:originallyDueBy\n",
      "SLADUEDATE -> mscore:categorizedBy\n",
      "STTS -> msrpcx:_IssueStatus_Open\n",
      "CREATION_DATE -> msrpcx:_IssueStatus_Closed\n",
      "CREATOR -> msrpcx:_IssueStatus_PendingVerification\n",
      "\n",
      "The SQL view would be as follows:\n",
      "\n",
      "CREATE VIEW TestSchema_View AS\n",
      "SELECT \n",
      "    ENUMVALS.DESCRIPTION AS Issue,\n",
      "    ENUMVALS.ENUMVALID AS OriginallyDueBy,\n",
      "    ENUMVALS.NAME AS IssueStatus,\n",
      "    ISSUE.DESCRIPTION AS Description,\n",
      "    ISSUE.IMPCTDORG AS HasAuthor,\n",
      "    ISSUE.ISSDESCR AS CategorizedBy,\n",
      "    ISSUE.ISSORGNINDT AS Impacts,\n",
      "    ISSUE.NAME00 AS Description,\n",
      "    ISSUE.ORGANIZATIONREGION AS OriginallyDueBy,\n",
      "    ISSUE.SLADUEDATE AS CategorizedBy,\n",
      "    ISSUE.STTS AS IssueStatus_Open,\n",
      "    ISSUE.CREATION_DATE AS IssueStatus_Closed,\n",
      "    ISSUE.CREATOR AS IssueStatus_PendingVerification\n",
      "FROM TestSchema.ENUMVALS\n",
      "INNER JOIN TestSchema.ISSUE\n",
      "    ON ENUMVALS.ENUMVALID = ISSUE.STTS;\n"
     ]
    }
   ],
   "source": [
    "query = '''\n",
    "System: you are an expert of rdbms and rdf triples and json\n",
    "\n",
    "map fields from json schema to db table columns in schema file\n",
    "for the below steps to generate the output\n",
    "\n",
    "Step 1:\n",
    "add the mapped db column in the json file in the format TABLE.Column\n",
    "\n",
    "Step 2: \n",
    "generate a SQL db view using the db columns mapped in step 1 and the db schema \n",
    "'''\n",
    "response = query_engine.query(f\"{query}\")\n",
    "print(response)"
   ]
  },
  {
   "cell_type": "code",
   "execution_count": null,
   "id": "a2499e96-b662-4846-a4b2-f9853a4e73a0",
   "metadata": {},
   "outputs": [],
   "source": []
  },
  {
   "cell_type": "code",
   "execution_count": null,
   "id": "732ce2b5-e1bf-4cce-bb8b-403fdf96cf1d",
   "metadata": {},
   "outputs": [],
   "source": []
  },
  {
   "cell_type": "code",
   "execution_count": null,
   "id": "9b81d305-2b97-423e-9691-3cc20e0ebd48",
   "metadata": {},
   "outputs": [],
   "source": []
  },
  {
   "cell_type": "code",
   "execution_count": null,
   "id": "23130672-eda2-447c-9bc0-d3238b19abef",
   "metadata": {},
   "outputs": [],
   "source": []
  },
  {
   "cell_type": "code",
   "execution_count": null,
   "id": "3ef3a08d-c7d8-4e43-adfc-7ebe48ead7b2",
   "metadata": {},
   "outputs": [],
   "source": []
  }
 ],
 "metadata": {
  "kernelspec": {
   "display_name": "Python 3 (ipykernel)",
   "language": "python",
   "name": "python3"
  },
  "language_info": {
   "codemirror_mode": {
    "name": "ipython",
    "version": 3
   },
   "file_extension": ".py",
   "mimetype": "text/x-python",
   "name": "python",
   "nbconvert_exporter": "python",
   "pygments_lexer": "ipython3",
   "version": "3.9.13"
  }
 },
 "nbformat": 4,
 "nbformat_minor": 5
}
